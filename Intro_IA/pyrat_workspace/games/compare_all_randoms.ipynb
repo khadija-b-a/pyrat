{
 "cells": [
  {
   "cell_type": "markdown",
   "metadata": {},
   "source": [
    "<h1 style=\"background-color: gray;\n",
    "           color: black;\n",
    "           padding: 20px;\n",
    "           text-align: center;\">INFO</h1>\n",
    "\n",
    "In this script, we compare players `Random1`, `Random2`, `Random3` and `Random4` in a game where there is only one cheese to catch in a maze without mud. \\\n",
    "All programs are evaluated on the same game configurations. \\\n",
    "We do not show the game interface here, to make the script faster. \\\n",
    "The goal is to compare the performances of the different random players in the same conditions."
   ]
  },
  {
   "cell_type": "markdown",
   "metadata": {},
   "source": [
    "<h1 style=\"background-color: gray;\n",
    "           color: black;\n",
    "           padding: 20px;\n",
    "           text-align: center;\">IMPORTS</h1>"
   ]
  },
  {
   "cell_type": "code",
   "execution_count": null,
   "metadata": {},
   "outputs": [],
   "source": [
    "# External imports\n",
    "import sys\n",
    "import os\n",
    "import tqdm.auto as tqdm\n",
    "import matplotlib.pyplot as pyplot\n",
    "import scipy.stats as scstats\n",
    "\n",
    "# Add needed directories to the path\n",
    "sys.path.append(os.path.join(\"..\", \"players\"))\n",
    "\n",
    "# PyRat imports\n",
    "from pyrat import Game, GameMode\n",
    "from Random1 import Random1\n",
    "from Random2 import Random2\n",
    "from Random3 import Random3\n",
    "from Random4 import Random4"
   ]
  },
  {
   "cell_type": "markdown",
   "metadata": {},
   "source": [
    "<h1 style=\"background-color: gray;\n",
    "           color: black;\n",
    "           padding: 20px;\n",
    "           text-align: center;\">CONSTANTS</h1>\n",
    "\n",
    "In this script, we are going to make multiple independent games. \\\n",
    "The goal is to collect enough statistics to draw conclusions on which algorithm is better than the other. \\\n",
    "This constant defines how many games are made."
   ]
  },
  {
   "cell_type": "code",
   "execution_count": null,
   "metadata": {},
   "outputs": [],
   "source": [
    "# Determines how many games will be played for each player\n",
    "NB_GAMES = 1000"
   ]
  },
  {
   "cell_type": "markdown",
   "metadata": {},
   "source": [
    "<h1 style=\"background-color: gray;\n",
    "           color: black;\n",
    "           padding: 20px;\n",
    "           text-align: center;\">RUN THE GAMES</h1>\n",
    "\n",
    "First, let us configure the game with a dictionary. \\\n",
    "Later in the script, we will update the dictionary with the `random_seed` argument to enforce the same maze/cheese for all players. \\\n",
    "Note that we put the game mode as `SIMULATION` to perform all games as fast as possible."
   ]
  },
  {
   "cell_type": "code",
   "execution_count": null,
   "metadata": {},
   "outputs": [],
   "source": [
    "# Customize the game elements\n",
    "config = {\"mud_percentage\": 0.0,\n",
    "          \"nb_cheese\": 1,\n",
    "          \"game_mode\": GameMode.SIMULATION}"
   ]
  },
  {
   "cell_type": "markdown",
   "metadata": {},
   "source": [
    "Let us now perform all games. \\\n",
    "For each game, we remember the number of turns needed to complete it."
   ]
  },
  {
   "cell_type": "code",
   "execution_count": null,
   "metadata": {},
   "outputs": [],
   "source": [
    "# Players to test (keys are legends to appear in the plot)\n",
    "players = {\"Random 1\": {\"class\": Random1, \"args\": {}},\n",
    "           \"Random 2\": {\"class\": Random2, \"args\": {}},\n",
    "           \"Random 3\": {\"class\": Random3, \"args\": {}},\n",
    "           \"Random 4\": {\"class\": Random4, \"args\": {}}}\n",
    "\n",
    "# Run the games for each player\n",
    "results = {player: [] for player in players}\n",
    "for key in players:\n",
    "    for seed in tqdm.tqdm(range(NB_GAMES), desc=key):\n",
    "        \n",
    "        # Update config to add the random seed\n",
    "        config[\"random_seed\"] = seed\n",
    "\n",
    "        # Make the game\n",
    "        game = Game(**config)\n",
    "        player = players[key][\"class\"](**players[key][\"args\"])\n",
    "        game.add_player(player)\n",
    "        stats = game.start()\n",
    "        \n",
    "        # Store the number of turns needed\n",
    "        results[key].append(stats[\"turns\"])"
   ]
  },
  {
   "cell_type": "markdown",
   "metadata": {},
   "source": [
    "<h1 style=\"background-color: gray;\n",
    "           color: black;\n",
    "           padding: 20px;\n",
    "           text-align: center;\">ANALYZE THE RESULTS</h1>\n",
    "           \n",
    "Now that all games are performed, we plot the percentage of games completed as a function of the number of turns elapsed."
   ]
  },
  {
   "cell_type": "code",
   "execution_count": null,
   "metadata": {},
   "outputs": [],
   "source": [
    "# Visualization of cumulative curves of numbers of turns taken per program\n",
    "max_turn = max([max(results[player]) for player in results])\n",
    "pyplot.figure(figsize=(10, 5))\n",
    "for player in results:\n",
    "    turns = [0] + sorted(results[player]) + [max_turn]\n",
    "    games_completed_per_turn = [len([turn for turn in results[player] if turn <= t]) * 100.0 / NB_GAMES for t in turns]\n",
    "    pyplot.plot(turns, games_completed_per_turn, label=player)\n",
    "pyplot.title(\"Comparison of turns needed to complete all %d games\" % (NB_GAMES))\n",
    "pyplot.xlabel(\"Turns\")\n",
    "pyplot.ylabel(\"% of games completed\")\n",
    "pyplot.xscale(\"log\")\n",
    "pyplot.legend()\n",
    "pyplot.show()"
   ]
  },
  {
   "cell_type": "markdown",
   "metadata": {},
   "source": [
    "Visualizing is great, but it may be hard to conclude with just a plot. \\\n",
    "Here, we perform a statistical test that will give more insight on whether an algorithm is better than the other."
   ]
  },
  {
   "cell_type": "code",
   "execution_count": null,
   "metadata": {},
   "outputs": [],
   "source": [
    "# Formal statistics to check if these curves are statistically significant\n",
    "for i, player1 in enumerate(results):\n",
    "    for j, player2 in enumerate(results):\n",
    "        if j > i:\n",
    "            test_result = scstats.mannwhitneyu(results[player1], results[player2], alternative=\"two-sided\")\n",
    "            print(\"Mann-Whitney U test between turns of program '%s' and of program '%s':\" % (player1, player2), test_result)"
   ]
  }
 ],
 "metadata": {
  "kernelspec": {
   "display_name": "Python 3",
   "language": "python",
   "name": "python3"
  },
  "language_info": {
   "codemirror_mode": {
    "name": "ipython",
    "version": 3
   },
   "file_extension": ".py",
   "mimetype": "text/x-python",
   "name": "python",
   "nbconvert_exporter": "python",
   "pygments_lexer": "ipython3",
   "version": "3.10.12"
  }
 },
 "nbformat": 4,
 "nbformat_minor": 2
}
