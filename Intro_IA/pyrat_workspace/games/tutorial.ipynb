{
 "cells": [
  {
   "cell_type": "markdown",
   "metadata": {},
   "source": [
    "<h1 style=\"background-color: gray;\n",
    "           color: black;\n",
    "           padding: 20px;\n",
    "           text-align: center;\">INFO</h1>\n",
    "\n",
    "This file is a tutorial on how to use the PyRat library. \\\n",
    "It provides multiple examples of how to customize a game, add players, etc. \\\n",
    "This should give you an overview of how to create your own games."
   ]
  },
  {
   "cell_type": "markdown",
   "metadata": {},
   "source": [
    "<h1 style=\"background-color: gray;\n",
    "           color: black;\n",
    "           padding: 20px;\n",
    "           text-align: center;\">IMPORTS</h1>\n",
    "\n",
    "First, let's import everything we need in this tutorial.\n",
    "\n",
    "The most important class is `Game`, that handles most things related to PyRat games. \\\n",
    "It will be in charge of creating a maze, placing cheese, asking players for decisions, rendering, etc.\n",
    "\n",
    "Additionally, we will use the players defined in the `players` directory. \\\n",
    "By default, your workspace should contain four versions of a player playing at random. \\\n",
    "These are `Random1`, `Random2`, `Random3` and `Random4` below."
   ]
  },
  {
   "cell_type": "code",
   "execution_count": 1,
   "metadata": {},
   "outputs": [],
   "source": [
    "# External imports\n",
    "import sys\n",
    "import os\n",
    "import pprint\n",
    "\n",
    "# Add needed directories to the path\n",
    "sys.path.append(os.path.join(\"..\", \"players\"))\n",
    "\n",
    "# PyRat imports\n",
    "from pyrat import Game, PlayerSkin, StartingLocation, RenderMode, GameMode, Action, RandomMazeAlgorithm\n",
    "from Random1 import Random1\n",
    "from Random2 import Random2\n",
    "from Random3 import Random3\n",
    "from Random4 import Random4"
   ]
  },
  {
   "cell_type": "markdown",
   "metadata": {},
   "source": [
    "<h1 style=\"background-color: gray;\n",
    "           color: black;\n",
    "           padding: 20px;\n",
    "           text-align: center;\">CREATING A PYRAT GAME</h1>\n",
    "\n",
    "To start a PyRat game, you just need to instantiate an object of the class `Game`. \\\n",
    "Then, add at least one player instance to the game (here, an instance of `Random4`) using method `add_player` of the `game` object. \\\n",
    "Finally, call the `start` method of the game object.\n",
    "\n",
    "At this point, you should see a graphical window with the game inside. \\\n",
    "You can close it at any moment (use the cross, or escape key), this will not prevent the game from running.\n",
    "\n",
    "Once the game is over, the `start` method will return a dictionary containing game statistics. \\\n",
    "We will detail this later in this tutorial."
   ]
  },
  {
   "cell_type": "code",
   "execution_count": null,
   "metadata": {},
   "outputs": [],
   "source": [
    "# Instantiate a game\n",
    "game = Game()\n",
    "\n",
    "# Instantiate a player and add it to the game\n",
    "player = Random4()\n",
    "game.add_player(player)\n",
    "\n",
    "# Start the game\n",
    "stats = game.start()"
   ]
  },
  {
   "cell_type": "markdown",
   "metadata": {},
   "source": [
    "In a PyRat game, there can be either one player, as in the example we just did, or multiple players. \\\n",
    "In the latter case, players can be grouped in teams. \\\n",
    "The goal of a PyRat game is:\n",
    "* If one team:\n",
    "    * Catch all pieces of cheese.\n",
    "    * The game will end when all pieces of cheese have been caught.\n",
    "* If more than one team:\n",
    "    * Catch more pieces of cheese than the other teams.\n",
    "    * The game will end when no team can change its ranking."
   ]
  },
  {
   "cell_type": "markdown",
   "metadata": {},
   "source": [
    "<h1 style=\"background-color: gray;\n",
    "           color: black;\n",
    "           padding: 20px;\n",
    "           text-align: center;\">CUSTOMIZING A PYRAT GAME</h1>\n",
    "\n",
    "Let us customize the game by creating a match between two teams. \\\n",
    "To specify teams, we are going to precise the `team` argument in the `add_player` method.\n",
    "\n",
    "By default, the game will distinguish the teams with distinct colors. \\\n",
    "For a better visualization, we can also give a distinct visual aspect to the players. \\\n",
    "To do so, we can specify the `skin` argument of a player, by giving it one value in the `PlayerSkin` enumeration.\n",
    "\n",
    "Also, by default, players have the name of the class that define them (_e.g._, an instance of `Random1` will be named Random1). \\\n",
    "We can also customize this with the `name` argument of the player's constructor."
   ]
  },
  {
   "cell_type": "code",
   "execution_count": null,
   "metadata": {},
   "outputs": [],
   "source": [
    "# Instantiate a game\n",
    "game = Game()\n",
    "\n",
    "# Instantiate two players and add them to the game as a team named \"Team 1\"\n",
    "# In Python, we can pass the arguments by name, so we can give them in any order\n",
    "# This is done by specifying argument_name=argument_value when calling the function\n",
    "player1 = Random1(skin=PlayerSkin.RAT, name=\"Rat\")\n",
    "player2 = Random2(skin=PlayerSkin.PYTHON, name=\"Python\")\n",
    "game.add_player(player1, team=\"Team 1\")\n",
    "game.add_player(player2, team=\"Team 1\")\n",
    "\n",
    "# Instantiate two players and add them to the game as another team named \"Team 2\"\n",
    "# In Python, arguments can also be called without having to specity their names\n",
    "# In this case, the order of the arguments is important, and should match the order of the arguments in the function definition\n",
    "player3 = Random3(\"Ghost\", PlayerSkin.GHOST)\n",
    "player4 = Random4(\"Mario\", PlayerSkin.MARIO)\n",
    "game.add_player(player3, \"Team 2\")\n",
    "game.add_player(player4, \"Team 2\")\n",
    "\n",
    "# Start the game\n",
    "stats = game.start()"
   ]
  },
  {
   "cell_type": "markdown",
   "metadata": {},
   "source": [
    "As you may have noticed, players all start in the middle of the maze by default. \\\n",
    "This can be customized by setting the `location` argument of the `add_player` method. \\\n",
    "There are a few pre-defined locations in the `StartingLocation` enumeration. \\\n",
    "You can also specify the number of the cell where you want the player to start. \\\n",
    "If the asked location does not exist in the maze, the player will start at the closest existing location.\n",
    "\n",
    "Let us create a game with a few players to illustrate starting player locations."
   ]
  },
  {
   "cell_type": "code",
   "execution_count": null,
   "metadata": {},
   "outputs": [],
   "source": [
    "# Instantiate a game\n",
    "game = Game()\n",
    "\n",
    "# Player 1 will start at the top left corner of the maze\n",
    "# Note that since we do not specify the name of the team, we have to use named arguments, as the add_player function expects the team name as the second argument\n",
    "player1 = Random4(\"TL\")\n",
    "game.add_player(player1, location=StartingLocation.TOP_LEFT)\n",
    "\n",
    "# Player 2 will start at the top right corner of the maze\n",
    "player2 = Random4(\"TR\")\n",
    "game.add_player(player2, location=StartingLocation.TOP_RIGHT)\n",
    "\n",
    "# Player 3 will start at the bottom left corner of the maze\n",
    "player3 = Random4(\"BL\")\n",
    "game.add_player(player3, location=StartingLocation.BOTTOM_LEFT)\n",
    "\n",
    "# Player 4 will start at the bottom right corner of the maze\n",
    "player4 = Random4(\"BR\")\n",
    "game.add_player(player4, location=StartingLocation.BOTTOM_RIGHT)\n",
    "\n",
    "# Player 5 will start at the center of the maze\n",
    "# Since this is the default location, it can also be omitted\n",
    "player5 = Random4(\"C\")\n",
    "game.add_player(player5, location=StartingLocation.CENTER)\n",
    "\n",
    "# Player 6 will start at a random location\n",
    "player6 = Random4(\"R\")\n",
    "game.add_player(player6, location=StartingLocation.RANDOM)\n",
    "\n",
    "# Player 7 will start at the same location as the previously added player\n",
    "# I.e., it will start at the same location pas player 6\n",
    "player7 = Random4(\"S\")\n",
    "game.add_player(player7, location=StartingLocation.SAME)\n",
    "\n",
    "# Player 8 will start on cell 42\n",
    "player8 = Random4(\"42\")\n",
    "game.add_player(player8, location=42)\n",
    "\n",
    "# Start the game\n",
    "stats = game.start()"
   ]
  },
  {
   "cell_type": "markdown",
   "metadata": {},
   "source": [
    "<h1 style=\"background-color: gray;\n",
    "           color: black;\n",
    "           padding: 20px;\n",
    "           text-align: center;\">CUSTOMIZING THE MAZE</h1>\n",
    "\n",
    "As you have seen, by default, a PyRat game defines a maze with certain characteristics:\n",
    "* The maze has a given width (in number of cells).\n",
    "* The maze has a given height (in number of cells).\n",
    "* Not all cells are accessible (i.e., the maze is not necessarily a rectangle and can contain holes).\n",
    "* Some cells are separated with mud, indicating that more than one move is necessary to go from one to the other.\n",
    "* There is a given number of walls.\n",
    "* There are multiple pieces of cheese in the maze.\n",
    "\n",
    "All these elements (and a few other ones) can be customized when instantiating the game. \\\n",
    "For instance, let us change the dimensions of the maze and the number of pieces of cheese."
   ]
  },
  {
   "cell_type": "code",
   "execution_count": null,
   "metadata": {},
   "outputs": [],
   "source": [
    "# Instatiate a game with specified arguments\n",
    "game = Game(maze_width=10, maze_height=10, nb_cheese=1)\n",
    "\n",
    "# Instantiate a player and add it to the game\n",
    "player = Random4()\n",
    "game.add_player(player)\n",
    "\n",
    "# Start the game\n",
    "stats = game.start()"
   ]
  },
  {
   "cell_type": "markdown",
   "metadata": {},
   "source": [
    "Equivalently, it may be more practical to define the game configuration in a dictionary, and to use the dictionary contents as arguments of the game constructor."
   ]
  },
  {
   "cell_type": "code",
   "execution_count": null,
   "metadata": {},
   "outputs": [],
   "source": [
    "# Customize the game elements\n",
    "config = {\"maze_width\": 10,\n",
    "          \"maze_height\": 10,\n",
    "          \"nb_cheese\": 1}\n",
    "\n",
    "# Instatiate a game with specified arguments\n",
    "game = Game(**config)\n",
    "\n",
    "# Instantiate a player and add it to the game\n",
    "player = Random4()\n",
    "game.add_player(player)\n",
    "\n",
    "# Start the game\n",
    "stats = game.start()"
   ]
  },
  {
   "cell_type": "markdown",
   "metadata": {},
   "source": [
    "So, what are the arguments we can set? \\\n",
    "Let us have a look at the definition of the constructor of class `Game`."
   ]
  },
  {
   "cell_type": "code",
   "execution_count": null,
   "metadata": {},
   "outputs": [],
   "source": [
    "# Print the documentation of the constructor of the Game class\n",
    "print(Game.__init__.__doc__)"
   ]
  },
  {
   "cell_type": "markdown",
   "metadata": {},
   "source": [
    "All these arguments can be set to customize a PyRat game at will. \\\n",
    "Here are the values they take by default, _i.e._, this is what defines a default PyRat game when no arguments are specified. \\\n",
    "These values are defined as class attributes of the `Game` class and all start with `DEFAULT`."
   ]
  },
  {
   "cell_type": "code",
   "execution_count": null,
   "metadata": {},
   "outputs": [],
   "source": [
    "# Show default values of the Game class constructor\n",
    "for value in Game.__dict__:\n",
    "    if value.startswith(\"DEFAULT\"):\n",
    "        print(\"Game.%s =\" % value, Game.__dict__[value] if type(Game.__dict__[value]) != str else \"\\\"%s\\\"\" % Game.__dict__[value])"
   ]
  },
  {
   "cell_type": "markdown",
   "metadata": {},
   "source": [
    "Some arguments can only take a particular value. \\\n",
    "This is the case for `render_mode`, that can only take a valued specified in the `RenderMode` enumeration. \\\n",
    "Here are the possible rendering modes."
   ]
  },
  {
   "cell_type": "code",
   "execution_count": null,
   "metadata": {},
   "outputs": [],
   "source": [
    "# Show the possible values of the RenderMode enumeration\n",
    "print(RenderMode.__doc__)"
   ]
  },
  {
   "cell_type": "markdown",
   "metadata": {},
   "source": [
    "This is also the case for the `game_mode`. \\\n",
    "Here are the possible values of the `GameMode` enumeration."
   ]
  },
  {
   "cell_type": "code",
   "execution_count": null,
   "metadata": {},
   "outputs": [],
   "source": [
    "# Show the possible values of the GameMode enumeration\n",
    "print(GameMode.__doc__)"
   ]
  },
  {
   "cell_type": "markdown",
   "metadata": {},
   "source": [
    "Finally, you can also choose the algorithm used to generate the random maze. \\\n",
    "Here are the possible values of the `RandomMazeAlgorithm` enumeration."
   ]
  },
  {
   "cell_type": "code",
   "execution_count": null,
   "metadata": {},
   "outputs": [],
   "source": [
    "# Show the possible values of the RandomMazeAlgorithm enumeration\n",
    "print(RandomMazeAlgorithm.__doc__)"
   ]
  },
  {
   "cell_type": "markdown",
   "metadata": {},
   "source": [
    "Not all arguments are compatible though. \\\n",
    "For instance, you cannot both specify a fixed list of pieces of cheese with `fixed_cheese`, and set `nb_cheese`, as the latter is used for random placement. \\\n",
    "If you specify an invalid configuration, you should get an error, either when instantiating the game, or when calling the `start` method."
   ]
  },
  {
   "cell_type": "code",
   "execution_count": null,
   "metadata": {},
   "outputs": [],
   "source": [
    "# Invalid configuration\n",
    "config = {\"fixed_cheese\": [1, 2, 3],\n",
    "          \"nb_cheese\": 3}\n",
    "\n",
    "# Instatiate a game with specified arguments\n",
    "game = Game(**config)"
   ]
  },
  {
   "cell_type": "markdown",
   "metadata": {},
   "source": [
    "<h1 style=\"background-color: gray;\n",
    "           color: black;\n",
    "           padding: 20px;\n",
    "           text-align: center;\">END OF GAME STATISTICS</h1>\n",
    "\n",
    "As mentioned earlier, when a game is completed, the `start` method returns a dictionary of statistics that summarize what happened during the game. \\\n",
    "Let us have a look at its contents, by creating a game with multiple teams and players, using all we have seen above.\n",
    "\n",
    "The `stats` dictionary contains the following entries:\n",
    "* `stats[\"turns\"]`: The number of turns of the game.\n",
    "* `stats[\"players\"]`: A dictionary for each player with name `\"player_name\"`, that contains the following entries:\n",
    "    * `stats[\"players\"][\"player_name\"][\"actions\"]`: A dictionary giving the number of times each action was chosen by the player, the number of turns it went into a wall, spend into mud, etc.\n",
    "    * `stats[\"players\"][\"player_name\"][\"score\"]`: The final score of the player.\n",
    "    * `stats[\"players\"][\"player_name\"][\"preprocessing_duration\"]`: The time spent in the `preprocessing` function of the player.\n",
    "    * `stats[\"players\"][\"player_name\"][\"turn_durations\"]`: A list of times spent in the `turn` function of the player."
   ]
  },
  {
   "cell_type": "code",
   "execution_count": null,
   "metadata": {},
   "outputs": [],
   "source": [
    "# Customize the game elements\n",
    "config = {\"maze_width\": 10,\n",
    "          \"maze_height\": 10,\n",
    "          \"mud_percentage\": 30.0,\n",
    "          \"mud_range\": (2, 7),\n",
    "          \"wall_percentage\": 50.0,\n",
    "          \"cell_percentage\": 90.0,\n",
    "          \"nb_cheese\": 20}\n",
    "\n",
    "# Instatiate a game with specified arguments\n",
    "game = Game(**config)\n",
    "\n",
    "# Instantiate and register players\n",
    "# Here we make multiple teams of players, each team having a different type of player\n",
    "# Team \"Random 1\" will start at the center of the maze (default)\n",
    "team_1_name = \"Random 1\"\n",
    "team_1_skin = PlayerSkin.RAT\n",
    "for i in range(4):\n",
    "    player_name = \"P \" + str(i + 1)\n",
    "    player = Random1(player_name, team_1_skin)\n",
    "    game.add_player(player, team_1_name)\n",
    "\n",
    "# Team \"Random 2\" will start at the top left corner\n",
    "# If such a cell does not exist, the players will start at the closest cell\n",
    "team_2_name = \"Random 2\"\n",
    "team_2_skin = PlayerSkin.PYTHON\n",
    "team_2_start_location = StartingLocation.TOP_LEFT\n",
    "for i in range(3):\n",
    "    player_name = \"P \" + str(i + 5)\n",
    "    player = Random2(player_name, team_2_skin)\n",
    "    game.add_player(player, team_2_name, team_2_start_location)\n",
    "\n",
    "# Team \"Random 3\" will start at a random location\n",
    "# Location \"same\" indicates that the player will start at the same location as the previous player\n",
    "team_3_name = \"Random 3\"\n",
    "team_3_skin = PlayerSkin.GHOST\n",
    "team_3_start_location = [StartingLocation.RANDOM, StartingLocation.SAME]\n",
    "for i in range(2):\n",
    "    player_name = \"P \" + str(i + 8)\n",
    "    player = Random3(player_name, team_3_skin)\n",
    "    game.add_player(player, team_3_name, team_3_start_location[i])\n",
    "\n",
    "# Team \"Random 4\" will start at the the bottom right corner\n",
    "# If such a cell does not exist, the player will start at the closest cell\n",
    "team_4_name = \"Random 4\"\n",
    "team_4_skin = PlayerSkin.MARIO\n",
    "team_4_start_location = StartingLocation.BOTTOM_RIGHT\n",
    "player = Random4(\"P 10\", team_4_skin)\n",
    "game.add_player(player, team_4_name, team_4_start_location)\n",
    "\n",
    "# Start the game and show statistics when over\n",
    "stats = game.start()\n",
    "pprint.pprint(stats)"
   ]
  },
  {
   "cell_type": "markdown",
   "metadata": {},
   "source": [
    "<h1 style=\"background-color: gray;\n",
    "           color: black;\n",
    "           padding: 20px;\n",
    "           text-align: center;\">CREATING A CUSTOM PLAYER</h1>\n",
    "\n",
    "There are very few things to do in order to create a player for a PyRat game. \\\n",
    "Here are the essential elements:\n",
    "* A PyRat player should be a class that inherits from class `Player`.\n",
    "* It should have a constructor (_i.e._, a method `__init__`) that will be executed when the class is instantiated.\n",
    "* It should have a method `turn(self, maze, game_state)` that returns an action, as defined in the `Action` enumeration.\n",
    "* Optionally, it can have a method `preprocessing(self, maze, game_state)`.\n",
    "* Optionally, it can have a method `postprocessing(self, maze, game_state, stats)`.\n",
    "\n",
    "Here are the possible actions that can be returned by the `turn` function."
   ]
  },
  {
   "cell_type": "code",
   "execution_count": null,
   "metadata": {},
   "outputs": [],
   "source": [
    "# Show the possible values of the Action enumeration\n",
    "print(Action.__doc__)"
   ]
  },
  {
   "cell_type": "markdown",
   "metadata": {},
   "source": [
    "The `Template.py` file provides a code that can be used as a basis for developing your own programs. \\\n",
    "Let us create a player, by adapting the template. \\\n",
    "This player plays randomly, and prints the history of moves it made when the game is over. \\\n",
    "Also, in the preprocessing, it prints the `maze` and `game_state` variables. \\\n",
    "Lines added to the template are identified with a `# NEW` comment."
   ]
  },
  {
   "cell_type": "code",
   "execution_count": 2,
   "metadata": {},
   "outputs": [],
   "source": [
    "#####################################################################################################################################################\n",
    "###################################################################### IMPORTS ######################################################################\n",
    "#####################################################################################################################################################\n",
    "\n",
    "# External imports\n",
    "from typing import *\n",
    "from typing_extensions import *\n",
    "from numbers import *\n",
    "import random # NEW\n",
    "\n",
    "# PyRat imports\n",
    "from pyrat import Player, Maze, GameState, Action\n",
    "\n",
    "#####################################################################################################################################################\n",
    "###################################################################### CLASSES ######################################################################\n",
    "#####################################################################################################################################################\n",
    "\n",
    "class MyCustomPlayer (Player): # NEW\n",
    "\n",
    "    \"\"\"\n",
    "        This player is basically a player that does nothing except printing the phase of the game.\n",
    "        It is meant to be used as a template to create new players.\n",
    "        Methods \"preprocessing\" and \"postprocessing\" are optional.\n",
    "        Method \"turn\" is mandatory.\n",
    "    \"\"\"\n",
    "\n",
    "    #############################################################################################################################################\n",
    "    #                                                                CONSTRUCTOR                                                                #\n",
    "    #############################################################################################################################################\n",
    "\n",
    "    def __init__ ( self:     Self,\n",
    "                   *args:    Any,\n",
    "                   **kwargs: Any\n",
    "                 ) ->        Self:\n",
    "\n",
    "        \"\"\"\n",
    "            This function is the constructor of the class.\n",
    "            In:\n",
    "                * self:   Reference to the current object.\n",
    "                * args:   Arguments to pass to the parent constructor.\n",
    "                * kwargs: Keyword arguments to pass to the parent constructor.\n",
    "            Out:\n",
    "                * A new instance of the class.\n",
    "        \"\"\"\n",
    "\n",
    "        # Inherit from parent class\n",
    "        super().__init__(*args, **kwargs)\n",
    "\n",
    "        # Initialize a list of moves\n",
    "        self.moves = [] # NEW\n",
    "       \n",
    "    #############################################################################################################################################\n",
    "    #                                                               PUBLIC METHODS                                                              #\n",
    "    #############################################################################################################################################\n",
    "\n",
    "    def preprocessing ( self:       Self,\n",
    "                        maze:       Maze,\n",
    "                        game_state: GameState,\n",
    "                      ) ->          None:\n",
    "        \n",
    "        \"\"\"\n",
    "            This method redefines the method of the parent class.\n",
    "            It is called once at the beginning of the game.\n",
    "            In:\n",
    "                * self:       Reference to the current object.\n",
    "                * maze:       An object representing the maze in which the player plays.\n",
    "                * game_state: An object representing the state of the game.\n",
    "            Out:\n",
    "                * None.\n",
    "        \"\"\"\n",
    "        \n",
    "        # Print the arguments received\n",
    "        print(maze) # NEW\n",
    "        print(game_state) # NEW\n",
    "\n",
    "    #############################################################################################################################################\n",
    "\n",
    "    def turn ( self:       Self,\n",
    "               maze:       Maze,\n",
    "               game_state: GameState,\n",
    "             ) ->          Action:\n",
    "\n",
    "        \"\"\"\n",
    "            This method redefines the abstract method of the parent class.\n",
    "            It is called at each turn of the game.\n",
    "            In:\n",
    "                * self:       Reference to the current object.\n",
    "                * maze:       An object representing the maze in which the player plays.\n",
    "                * game_state: An object representing the state of the game.\n",
    "            Out:\n",
    "                * action: One of the possible actions.\n",
    "        \"\"\"\n",
    "\n",
    "        # Select an action randomly, and store it\n",
    "        action = random.choice(list(Action)) # NEW\n",
    "        self.moves.append(action) # NEW\n",
    "\n",
    "        # Return an action\n",
    "        return action # NEW\n",
    "\n",
    "#############################################################################################################################################\n",
    "\n",
    "    def postprocessing ( self:       Self,\n",
    "                         maze:       Maze,\n",
    "                         game_state: GameState,\n",
    "                         stats:      Dict[str, Any],\n",
    "                       ) ->          None:\n",
    "\n",
    "        \"\"\"\n",
    "            This method redefines the method of the parent class.\n",
    "            It is called once at the end of the game.\n",
    "            In:\n",
    "                * self:       Reference to the current object.\n",
    "                * maze:       An object representing the maze in which the player plays.\n",
    "                * game_state: An object representing the state of the game.\n",
    "                * stats:      Statistics about the game.\n",
    "            Out:\n",
    "                * None.\n",
    "        \"\"\"\n",
    "\n",
    "        # Print the list of moves performed\n",
    "        print(self.moves)\n",
    "\n",
    "#####################################################################################################################################################\n",
    "#####################################################################################################################################################"
   ]
  },
  {
   "cell_type": "markdown",
   "metadata": {},
   "source": [
    "In order to use it in a game, just instantiate it and add it to the game, as before."
   ]
  },
  {
   "cell_type": "code",
   "execution_count": 3,
   "metadata": {},
   "outputs": [
    {
     "name": "stdout",
     "output_type": "stream",
     "text": [
      "Maze object:\n",
      "|  Width: 5\n",
      "|  Height: 5\n",
      "|  Vertices: [2, 3, 6, 7, 8, 9, 11, 12, 13, 14, 15, 16, 17, 18, 19, 20, 21, 22, 23, 24]\n",
      "|  Adjacency matrix:\n",
      "|  |  2 <-- (8) --> 3\n",
      "|  |  2 <-- (1) --> 7\n",
      "|  |  3 <-- (1) --> 8\n",
      "|  |  6 <-- (1) --> 7\n",
      "|  |  6 <-- (1) --> 11\n",
      "|  |  7 <-- (1) --> 12\n",
      "|  |  8 <-- (1) --> 9\n",
      "|  |  8 <-- (1) --> 13\n",
      "|  |  9 <-- (1) --> 14\n",
      "|  |  11 <-- (9) --> 16\n",
      "|  |  12 <-- (5) --> 13\n",
      "|  |  12 <-- (1) --> 17\n",
      "|  |  13 <-- (1) --> 14\n",
      "|  |  13 <-- (1) --> 18\n",
      "|  |  14 <-- (1) --> 19\n",
      "|  |  15 <-- (1) --> 16\n",
      "|  |  15 <-- (1) --> 20\n",
      "|  |  16 <-- (1) --> 17\n",
      "|  |  16 <-- (1) --> 21\n",
      "|  |  17 <-- (1) --> 22\n",
      "|  |  18 <-- (1) --> 23\n",
      "|  |  19 <-- (8) --> 24\n",
      "|  |  21 <-- (5) --> 22\n",
      "GameState object:\n",
      "|  Players: {'MyCustomPlayer': 12}\n",
      "|  Scores: {'MyCustomPlayer': 0}\n",
      "|  Muds: {'MyCustomPlayer': {'target': None, 'count': 0}}\n",
      "|  Teams: {'': ['MyCustomPlayer']}\n",
      "|  Cheese: [17]\n",
      "|  Turn: 0\n",
      "\n",
      "[<Action.NORTH: 'north'>, <Action.WEST: 'west'>, <Action.EAST: 'east'>, <Action.EAST: 'east'>, <Action.SOUTH: 'south'>, <Action.NORTH: 'north'>, <Action.SOUTH: 'south'>, <Action.WEST: 'west'>, <Action.EAST: 'east'>, <Action.NORTH: 'north'>, <Action.SOUTH: 'south'>, <Action.EAST: 'east'>, <Action.NOTHING: 'nothing'>, <Action.NOTHING: 'nothing'>, <Action.WEST: 'west'>, <Action.WEST: 'west'>, <Action.SOUTH: 'south'>]\n"
     ]
    }
   ],
   "source": [
    "# Customize the game elements\n",
    "config = {\"maze_width\": 5,\n",
    "          \"maze_height\": 5,\n",
    "          \"nb_cheese\": 1}\n",
    "\n",
    "# Instatiate a game with specified arguments\n",
    "game = Game(**config)\n",
    "\n",
    "# Instantiate a player and add it to the game\n",
    "player = MyCustomPlayer()\n",
    "game.add_player(player)\n",
    "\n",
    "# Start the game\n",
    "stats = game.start()"
   ]
  },
  {
   "cell_type": "markdown",
   "metadata": {},
   "source": [
    "Have a look at the provided files in the `players` directory for multiple examples of PyRat players. \\\n",
    "Your players should be stored in Python files, just like provided examples, to use them easily from scripts that create games."
   ]
  }
 ],
 "metadata": {
  "kernelspec": {
   "display_name": "Python 3",
   "language": "python",
   "name": "python3"
  },
  "language_info": {
   "codemirror_mode": {
    "name": "ipython",
    "version": 3
   },
   "file_extension": ".py",
   "mimetype": "text/x-python",
   "name": "python",
   "nbconvert_exporter": "python",
   "pygments_lexer": "ipython3",
   "version": "3.10.12"
  }
 },
 "nbformat": 4,
 "nbformat_minor": 2
}
