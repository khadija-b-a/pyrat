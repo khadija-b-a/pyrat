{
 "cells": [
  {
   "cell_type": "markdown",
   "metadata": {},
   "source": [
    "Introduction to Artificial Intelligence - Lab Session 1 - \n",
    "--\n",
    "At the end of this session, you will be able to : \n",
    "- Create and manage the Jupyter Notebooks environment to run code, insert text and math equations.\n",
    "- Perform basic matrix manipulations using Numpy. \n",
    "- Create signals and perform basic scientific computing using Scipy and Numpy.\n",
    "- Use the pyrat software to generate custom datasets and save it into numpy\n",
    "- Produce simple data visulisation using Matplotlib."
   ]
  },
  {
   "cell_type": "markdown",
   "metadata": {},
   "source": [
    "Part 1 - Intro to Jupyter Notebook\n",
    "--\n",
    "Here, we will only cover the basics. \n",
    "\n",
    "Jupyter Notebook is based on the .ipynb format (iPython Notebook), and is essentially a way to do rapid prototyping / demonstrations of scientific python. The basic idea is to define *cells*. \n",
    "Cells can be of several types, including python code, or rich text (using [markdown formatting](https://www.markdownguide.org/basic-syntax/)).\n",
    "\n",
    "When a code cell is evaluated (i.e. the python code will be executed), the output of this evaluation will show up right below the cell. \n",
    "\n",
    "When a text cell is evaluated, the text will be formatted. \n",
    "\n",
    "You can now do the \"User Interface Tour\" from the Help menu. "
   ]
  },
  {
   "cell_type": "markdown",
   "metadata": {},
   "source": [
    "Done ? \n",
    "\n",
    "When working with Jupyter Notebook, you will essentially switch between two modes : \n",
    "- The Edit mode in which you edit the content of the cells \n",
    "- The Command mode, that enables you to change the cell types. \n",
    "\n",
    "When in Command mode, you can select cells. If you select a single cell, you can edit it by simply pressing enter, or double clicking on it. "
   ]
  },
  {
   "cell_type": "markdown",
   "metadata": {},
   "source": [
    "For example, try editing THIS CELL and change its content. "
   ]
  },
  {
   "cell_type": "markdown",
   "metadata": {},
   "source": [
    "Now, edit the cell below, change the code, and when you're done, press Shift+Enter to evalute the code. "
   ]
  },
  {
   "cell_type": "code",
   "execution_count": 1,
   "metadata": {
    "ExecuteTime": {
     "end_time": "2023-10-04T13:09:55.169824Z",
     "start_time": "2023-10-04T13:09:55.162235Z"
    }
   },
   "outputs": [
    {
     "name": "stdout",
     "output_type": "stream",
     "text": [
      "5 + 10\n"
     ]
    }
   ],
   "source": [
    "### CELL TO BE EDITED\n",
    "\n",
    "a=5\n",
    "b= 2*a\n",
    "print(\"%d + %d\"%(a,b))"
   ]
  },
  {
   "cell_type": "markdown",
   "metadata": {},
   "source": [
    "Text cells can contain math expressions that use the Markdown formatting, in which you can use LaTEx expressions for maths (enclosed between two dollar signs). \n",
    "\n",
    "For example : $A(k) \\triangleq \\sum_{\\mathbf{n} =1}^{k}{n^2}$\n",
    "\n",
    "Now : \n",
    "- Edit the current cell to show the code that displays the math expression,\n",
    "- Create a code cell below that defines a function that calculates $A(k)$ given k, and evaluate this cell,\n",
    "- Create another cell and use the function to display $A(k)$ for a few values of $\\mathbf{k}$ (eg 10 and 20)."
   ]
  },
  {
   "cell_type": "code",
   "execution_count": 7,
   "metadata": {
    "ExecuteTime": {
     "end_time": "2023-10-04T13:09:55.177014Z",
     "start_time": "2023-10-04T13:09:55.172813Z"
    }
   },
   "outputs": [],
   "source": [
    "### CELL TO BE COMPLETED \n",
    "def k_function(k): \n",
    "    a =0\n",
    "    for i in range(k):\n",
    "        a = a + k*k\n",
    "    return a"
   ]
  },
  {
   "cell_type": "code",
   "execution_count": 9,
   "metadata": {
    "ExecuteTime": {
     "end_time": "2023-10-04T13:09:55.185987Z",
     "start_time": "2023-10-04T13:09:55.181998Z"
    }
   },
   "outputs": [
    {
     "name": "stdout",
     "output_type": "stream",
     "text": [
      "1000\n"
     ]
    }
   ],
   "source": [
    "### CELL TO BE COMPLETED \n",
    "b = k_function(10)\n",
    "print(b)"
   ]
  },
  {
   "cell_type": "markdown",
   "metadata": {},
   "source": [
    "Note that using Jupyter Notebook, if you evaluate a cell with a function followed by a \"?\" sign, the help of the function will pop up. \n",
    "\n",
    "Example : "
   ]
  },
  {
   "cell_type": "code",
   "execution_count": 13,
   "metadata": {
    "ExecuteTime": {
     "end_time": "2023-10-04T13:09:55.197248Z",
     "start_time": "2023-10-04T13:09:55.188989Z"
    }
   },
   "outputs": [],
   "source": [
    "import os\n",
    "\n",
    "os.listdir?"
   ]
  },
  {
   "cell_type": "markdown",
   "metadata": {},
   "source": [
    "You can also display the code of a function using the syntax \"??\" "
   ]
  },
  {
   "cell_type": "code",
   "execution_count": 5,
   "metadata": {
    "ExecuteTime": {
     "end_time": "2023-10-04T13:09:55.205441Z",
     "start_time": "2023-10-04T13:09:55.200244Z"
    }
   },
   "outputs": [
    {
     "name": "stdout",
     "output_type": "stream",
     "text": [
      "Object `A` not found.\n"
     ]
    }
   ],
   "source": [
    "A??"
   ]
  },
  {
   "cell_type": "markdown",
   "metadata": {},
   "source": [
    "The popup can be closed by pressing the Escape key. \n",
    "\n",
    "Use the listdir function to browse the content of some directories... \n"
   ]
  },
  {
   "cell_type": "code",
   "execution_count": 14,
   "metadata": {
    "ExecuteTime": {
     "end_time": "2023-10-04T13:09:55.212097Z",
     "start_time": "2023-10-04T13:09:55.208439Z"
    }
   },
   "outputs": [
    {
     "data": {
      "text/plain": [
       "['.ipynb_checkpoints',\n",
       " 'Crypto',\n",
       " 'Intro_IA',\n",
       " 'LaLog',\n",
       " 'MAPD',\n",
       " 'src',\n",
       " 'TP_panda_pybullet_grasping_slotted_code',\n",
       " 'Tutorial-1-Python',\n",
       " 'Tutorial-2-Python',\n",
       " 'Tutorial-3-Python',\n",
       " '__MACOSX']"
      ]
     },
     "execution_count": 14,
     "metadata": {},
     "output_type": "execute_result"
    }
   ],
   "source": [
    "### CELL TO BE COMPLETED \n",
    "os.listdir(\"C:/Users/Moi/DCL/\")"
   ]
  },
  {
   "cell_type": "markdown",
   "metadata": {},
   "source": [
    "Part 2 - Introduction to Numpy, Scipy and Matplotlib \n",
    "--"
   ]
  },
  {
   "cell_type": "markdown",
   "metadata": {},
   "source": [
    "A code cell can contain any python code, including imports. Let's start by importing the Numpy package. "
   ]
  },
  {
   "cell_type": "code",
   "execution_count": 19,
   "metadata": {
    "ExecuteTime": {
     "end_time": "2023-10-04T13:09:55.408562Z",
     "start_time": "2023-10-04T13:09:55.215094Z"
    }
   },
   "outputs": [],
   "source": [
    "import numpy as np"
   ]
  },
  {
   "cell_type": "markdown",
   "metadata": {},
   "source": [
    "Numpy can be used to generate pseudo-random values from various distributions. In particular, a very useful distribution is the standard normal (zero mean and unit variance). Let's generate two vectors sampled from the normal distribution, using a length parameter that we'll be able to change if needed. "
   ]
  },
  {
   "cell_type": "code",
   "execution_count": 8,
   "metadata": {
    "ExecuteTime": {
     "end_time": "2023-10-04T13:09:55.422386Z",
     "start_time": "2023-10-04T13:09:55.415553Z"
    }
   },
   "outputs": [],
   "source": [
    "length = 50\n",
    "\n",
    "vecA = np.random.randn(length)\n",
    "vecB = np.random.randn(2*length)"
   ]
  },
  {
   "cell_type": "markdown",
   "metadata": {},
   "source": [
    "vecA and vecB are numpy *arrays*. One of their attributes can be fetched to check their *shape*"
   ]
  },
  {
   "cell_type": "code",
   "execution_count": 9,
   "metadata": {
    "ExecuteTime": {
     "end_time": "2023-10-04T13:09:55.446081Z",
     "start_time": "2023-10-04T13:09:55.428374Z"
    }
   },
   "outputs": [
    {
     "name": "stdout",
     "output_type": "stream",
     "text": [
      "(50,)\n",
      "(100,)\n"
     ]
    }
   ],
   "source": [
    "print(vecA.shape)\n",
    "print(vecB.shape)"
   ]
  },
  {
   "cell_type": "code",
   "execution_count": 10,
   "metadata": {
    "ExecuteTime": {
     "end_time": "2023-10-04T13:09:55.459036Z",
     "start_time": "2023-10-04T13:09:55.453054Z"
    }
   },
   "outputs": [
    {
     "name": "stdout",
     "output_type": "stream",
     "text": [
      "[ 0.79671759  0.66354296 -0.71537275 -0.79783426 -0.59206222  0.06061423\n",
      "  0.7363358   2.09130585  0.07975811 -0.09773057  0.10093428  0.87446668\n",
      " -0.45770184  1.28631062 -0.54021549 -0.00470002 -0.02449463 -0.31180567\n",
      " -1.01178283 -0.15128542  0.88962108  0.91397126 -0.73835423  1.83307406\n",
      "  0.12551963  1.22996248  0.43063441  1.19499754 -1.48814442  1.24056289\n",
      " -0.09492679 -1.53016381 -0.44430187  0.96313335 -0.29837808 -0.01803466\n",
      " -2.57839073 -0.58517192 -0.49626132  0.25215173  0.33340661 -0.16371795\n",
      " -0.16732244 -0.20009378  0.63952011  0.55303504  1.11543661 -0.89942942\n",
      " -0.34037273 -0.22960864]\n"
     ]
    }
   ],
   "source": [
    "print(vecA)"
   ]
  },
  {
   "cell_type": "markdown",
   "metadata": {},
   "source": [
    "Numpy arrays can be vectors as well as matrices, or any tensor. For example the following code will create tensors with 3 dimensions using the standard normal"
   ]
  },
  {
   "cell_type": "code",
   "execution_count": 11,
   "metadata": {
    "ExecuteTime": {
     "end_time": "2023-10-04T13:09:55.472087Z",
     "start_time": "2023-10-04T13:09:55.462028Z"
    }
   },
   "outputs": [
    {
     "name": "stdout",
     "output_type": "stream",
     "text": [
      "(3, 500, 4)\n"
     ]
    }
   ],
   "source": [
    "arrayC = np.random.randn(3,500,4)\n",
    "print(arrayC.shape)"
   ]
  },
  {
   "cell_type": "markdown",
   "metadata": {},
   "source": [
    "Note that the random package of Numpy has several other interesting functions. Try to test the two functions proposed in the cell below. \n",
    "\n",
    "Try uncommenting the two functions below one by one, look up their help page, and try to use them. "
   ]
  },
  {
   "cell_type": "code",
   "execution_count": 20,
   "metadata": {
    "ExecuteTime": {
     "end_time": "2023-10-04T13:09:55.478052Z",
     "start_time": "2023-10-04T13:09:55.474080Z"
    }
   },
   "outputs": [
    {
     "name": "stdout",
     "output_type": "stream",
     "text": [
      "avant permutation :  [0 0 5 0 0 5 5 4 2 1]\n",
      "apres permutation :  [5 1 0 0 0 4 0 5 2 5]\n"
     ]
    }
   ],
   "source": [
    "### CELL TO BE Edited \n",
    "\n",
    "#np.random.randint\n",
    "array = np.random.randint(6, size=10) # crée un tab de 10 entiers entre 0 et 5\n",
    "print(\"avant permutation : \", array)\n",
    "#np.random.permutation\n",
    "array = np.random.permutation(array)\n",
    "print(\"apres permutation : \" , array)"
   ]
  },
  {
   "cell_type": "markdown",
   "metadata": {},
   "source": [
    "A very important features of arrays is the fact they can be used as *iterables*. For example, you can iterate over the dimensions of an array by simply \"looping\" over it using a *for* loop"
   ]
  },
  {
   "cell_type": "code",
   "execution_count": 13,
   "metadata": {
    "ExecuteTime": {
     "end_time": "2023-10-04T13:09:55.487184Z",
     "start_time": "2023-10-04T13:09:55.482047Z"
    }
   },
   "outputs": [
    {
     "name": "stdout",
     "output_type": "stream",
     "text": [
      "(500, 4)\n",
      "(500, 4)\n",
      "(500, 4)\n"
     ]
    }
   ],
   "source": [
    "for curdim in arrayC:\n",
    "    print(curdim.shape)"
   ]
  },
  {
   "cell_type": "markdown",
   "metadata": {},
   "source": [
    "Also possible to enumerate along the dimension in order to get the index of the current \"smaller\" array\n"
   ]
  },
  {
   "cell_type": "code",
   "execution_count": 14,
   "metadata": {
    "ExecuteTime": {
     "end_time": "2023-10-04T13:09:55.499390Z",
     "start_time": "2023-10-04T13:09:55.490187Z"
    }
   },
   "outputs": [
    {
     "name": "stdout",
     "output_type": "stream",
     "text": [
      "Initial shape is 3 500 4\n",
      "Iterating over the first dimension using an index k\n",
      "k = 0, shape is 500 4\n",
      "k = 1, shape is 500 4\n",
      "k = 2, shape is 500 4\n"
     ]
    }
   ],
   "source": [
    "print('Initial shape is %d %d %d' % (arrayC.shape[0],arrayC.shape[1],arrayC.shape[2]))\n",
    "print('Iterating over the first dimension using an index k')\n",
    "for k,curdim in enumerate(arrayC):\n",
    "    print('k = %d, shape is %d %d' % (k,curdim.shape[0],curdim.shape[1]))"
   ]
  },
  {
   "cell_type": "markdown",
   "metadata": {},
   "source": [
    "Use the previous principle in order to calculate the average of each 500x4 subvector, using the function np.mean()"
   ]
  },
  {
   "cell_type": "code",
   "execution_count": 26,
   "metadata": {
    "ExecuteTime": {
     "end_time": "2023-10-04T13:09:55.507255Z",
     "start_time": "2023-10-04T13:09:55.503386Z"
    }
   },
   "outputs": [
    {
     "name": "stdout",
     "output_type": "stream",
     "text": [
      "[[ 4  2  5 10  9  8  2  7  7  7  1  7  9  3  9  6 10  2  4  8]\n",
      " [ 2  3  1  8 10 10  6  5  7  7  3  5  8  4  8  7  7  3  1  7]\n",
      " [ 7  3  6  1  3  1  6  1  9  3  7  4  9  4  8  6  3  9  8  7]\n",
      " [ 8  2 10  5  6  7  3  5  3 10  2  9  4  4  3  1  9  2  6  5]\n",
      " [ 6  1  2  9  6  8  9  1  6  5  5  5 10  3  6  9  8  1  9  8]\n",
      " [ 2  6  9  9  3  2  3  3 10  2  2  1  9  6  2  7  7 10  2  4]\n",
      " [ 9  6  7  4 10  4  8  2  4  7  2  2  6  9 10  4  2  9  6  6]\n",
      " [ 2  7  1  2  6  8  1  3  4  4  3  6  7  7  7  9  5  4  6  9]\n",
      " [ 5  2  8  3  8  8  7  4  8  1  5  9  5  6  6  5  2  8  2  4]\n",
      " [ 1  2  9  4  6  8  5  7  6  9  4  9  3 10  7  4  6  4 10  7]\n",
      " [ 3  8  8 10  2  3  7  7  7  2  8 10  8  6  7  5  8  5 10  1]\n",
      " [ 8  3  7  2  1  8  1  8  1  5  5  8  2  1  4  2  9  3  4  9]\n",
      " [ 8  2  3 10  4  3  8  3  3  1  5  8  5 10  5  7  5  8  5  8]\n",
      " [10  2  8  4 10  8  2 10  3  5  5  5  5  1  3  5  6  8  4  7]\n",
      " [ 1  5  7 10  3  6  2  8  7  3  2  8  3  7  6  9  8  8  6  4]\n",
      " [10  1  4  1  9  6  8  3  1  6  9  4 10  2  6  8  3 10  1  7]\n",
      " [ 2  8  3  5 10  8  7  2  1  5  1  1  9  9  6  4  1  7  8  9]\n",
      " [ 9  3  6  1  8  7  1  8  1  1  8 10 10  2  6 10  7  1  8  1]\n",
      " [ 9  9  1  9  3  7  5  8  9  1  4  2  6  1  5 10  3  7  2  5]\n",
      " [ 3  4  5  1 10  3  9 10  9  6  7  9  3  3  6  2  2  7  5  3]\n",
      " [ 2  4  1  4  8  5  6  3  7  4  7  2  6  4  6 10  4  4  8  7]\n",
      " [10  3  6 10  3  3  5  8  4  9  1  7  8  5  4  9  2  4  8 10]\n",
      " [ 8  1 10  7  9  5  1 10  2  7  3  1  9  3  6  6  1  3  8  2]\n",
      " [ 3  5  5  4  2  7  3 10  2  5  2  6  9  6  1  7  7  7  7  7]\n",
      " [ 2  2  5  1  9  6  9  6  2  2 10  3 10  9 10  8  1  1  7  7]\n",
      " [ 3  8  4  5  2  8  5  9 10  2  6  2  5  7  2  5  5 10  3  2]\n",
      " [ 1  1  8  3  3 10  3  5  9  8  9  7  3  9  9 10  1  9  9  4]\n",
      " [ 5  1  3 10  4  3  3  4  9  8  6 10  2 10  2  6  1  1  7  5]\n",
      " [ 8  3  3  2  1  7  6  7  2  9  3  9  5  5  4  6  4  6  7  1]\n",
      " [ 2  3  7  6  6  9  2  5  1 10  1  3  1  7  5  4  7  4  9  6]\n",
      " [ 8  2  8  9  5  1  3  8  1  1  2  7  6  9  7  2  3  6  4  7]\n",
      " [ 5 10  5  1  3  6  6  6  4  2  8  4  8  2  2  7 10  8  3  9]\n",
      " [ 7  7  9  9  8  1  5  5  3 10  9  7  9  2  7  3  4  3  8  3]\n",
      " [ 2  2  4  4  8  5 10  3  5  2  4 10 10  1  9  8  3  5  7  4]\n",
      " [ 3  1  3  6  8  4  2  2  9  1 10  5  2  4  9  5  5  5  6  3]\n",
      " [ 1 10  9 10  2  5  5  1  3  4  6  9  9  7  4  4  6  5  8  9]\n",
      " [ 8  4  6  9  5  4 10  5  6  6  5  2  4 10 10  1  9  5  2 10]\n",
      " [ 5  7  4  6  8  1  3  6  4  4  7  8  6 10  5  4  9  1  7  6]\n",
      " [ 2  2  1 10  5  4 10  3  1  3  1  8  4  1  9  5  9  9  4  7]\n",
      " [ 4 10  2  6  7  2  6  5  4  7  7  2  2  2  2  5  4  6  8  9]]\n",
      "la moyenne est  5.4\n"
     ]
    }
   ],
   "source": [
    "### CELL TO BE COMPLETED \n",
    "array = np.random.randint(1,11,(40,20))\n",
    "mean = np.mean(array)\n",
    "print(array)\n",
    "print(\"la moyenne est \", mean)"
   ]
  },
  {
   "cell_type": "markdown",
   "metadata": {},
   "source": [
    "Check that you obtain the same result when directly computing the average over the two axis 1 and 2 (look up the arguments of np.mean) "
   ]
  },
  {
   "cell_type": "code",
   "execution_count": 16,
   "metadata": {
    "ExecuteTime": {
     "end_time": "2023-10-04T13:09:55.514530Z",
     "start_time": "2023-10-04T13:09:55.510252Z"
    }
   },
   "outputs": [],
   "source": [
    "### CELL TO BE COMPLETED \n",
    "mean1 = np.mean(array[0])\n",
    "mean2 = np.mean(array[1])\n",
    "print('la somme de %d + %d = %d' %(mean1, mean2, mean1+mean2))\n",
    "    \n",
    "        "
   ]
  },
  {
   "cell_type": "markdown",
   "metadata": {},
   "source": [
    "These features will prove to be very useful when manipulate large arrays. "
   ]
  },
  {
   "cell_type": "markdown",
   "metadata": {},
   "source": [
    "Another important operation when working with Numpy Arrays is *reshaping*. Essentially, *reshaping* consists in changing the organisation of the array (in terms of dimension), while keeping the same number of elements. For example, a 20x10 2D array can be converted into a 4x5x10 array"
   ]
  },
  {
   "cell_type": "code",
   "execution_count": 17,
   "metadata": {
    "ExecuteTime": {
     "end_time": "2023-10-04T13:09:55.538370Z",
     "start_time": "2023-10-04T13:09:55.523518Z"
    }
   },
   "outputs": [
    {
     "name": "stdout",
     "output_type": "stream",
     "text": [
      "Initial shape of A is 10 x 20\n",
      "[[1 4 1 3 1 1 2 4 2 3 3 1 2 2 1 3 1 2 2 1]\n",
      " [3 4 1 1 1 4 4 2 4 2 1 3 2 1 2 4 2 1 3 4]\n",
      " [3 2 1 1 4 1 2 1 2 4 2 4 4 1 4 3 1 3 4 4]\n",
      " [4 3 3 2 3 3 4 4 2 3 4 3 2 1 1 1 2 4 3 1]\n",
      " [2 4 3 1 4 1 2 2 2 1 4 1 2 1 4 4 3 4 3 3]\n",
      " [3 4 2 1 1 2 3 4 1 4 3 2 3 4 1 4 2 4 3 4]\n",
      " [1 1 3 2 2 1 4 2 1 4 1 3 2 1 4 4 2 2 2 3]\n",
      " [1 3 1 3 4 1 2 1 2 3 1 4 1 3 2 4 3 2 3 1]\n",
      " [4 3 2 4 1 1 4 3 4 4 1 2 2 2 2 3 2 1 3 1]\n",
      " [1 3 1 1 4 1 4 1 4 1 4 1 4 3 3 3 1 1 3 3]]\n",
      "B is A reshaped to 4 x 5 x 10\n",
      "[[[1 4 1 3 1 1 2 4 2 3]\n",
      "  [3 1 2 2 1 3 1 2 2 1]\n",
      "  [3 4 1 1 1 4 4 2 4 2]\n",
      "  [1 3 2 1 2 4 2 1 3 4]\n",
      "  [3 2 1 1 4 1 2 1 2 4]]\n",
      "\n",
      " [[2 4 4 1 4 3 1 3 4 4]\n",
      "  [4 3 3 2 3 3 4 4 2 3]\n",
      "  [4 3 2 1 1 1 2 4 3 1]\n",
      "  [2 4 3 1 4 1 2 2 2 1]\n",
      "  [4 1 2 1 4 4 3 4 3 3]]\n",
      "\n",
      " [[3 4 2 1 1 2 3 4 1 4]\n",
      "  [3 2 3 4 1 4 2 4 3 4]\n",
      "  [1 1 3 2 2 1 4 2 1 4]\n",
      "  [1 3 2 1 4 4 2 2 2 3]\n",
      "  [1 3 1 3 4 1 2 1 2 3]]\n",
      "\n",
      " [[1 4 1 3 2 4 3 2 3 1]\n",
      "  [4 3 2 4 1 1 4 3 4 4]\n",
      "  [1 2 2 2 2 3 2 1 3 1]\n",
      "  [1 3 1 1 4 1 4 1 4 1]\n",
      "  [4 1 4 3 3 3 1 1 3 3]]]\n"
     ]
    }
   ],
   "source": [
    "A = np.random.randint(1,5,(10,20))\n",
    "print('Initial shape of A is %d x %d' % (A.shape[0],A.shape[1]))\n",
    "print(A)\n",
    "B = A.reshape((4,5,10))\n",
    "print('B is A reshaped to %d x %d x %d' % (B.shape[0],B.shape[1],B.shape[2]))\n",
    "print(B)"
   ]
  },
  {
   "cell_type": "markdown",
   "metadata": {},
   "source": [
    "Now try implementing the same function $A(k)$ that we implemented in part 1 using numpy.\n",
    "\n",
    "Recall that $A(k) \\triangleq \\sum_{\\mathbf{n} =1}^{k}{n^2}$\n",
    "\n",
    "The following numpy auxiliary functions can help you:\n",
    "   - power: (np.power(base,exponent), example: np.power(2,2) = 4\n",
    "   - arange: (np.arange(last element), example: np.arange(5) = [0,1,2,3,4]\n",
    "   - sum: (np.sum(vector), example: np.sum([0,1,2,3]) = 6"
   ]
  },
  {
   "cell_type": "code",
   "execution_count": 18,
   "metadata": {
    "ExecuteTime": {
     "end_time": "2023-10-04T13:09:55.545158Z",
     "start_time": "2023-10-04T13:09:55.540369Z"
    }
   },
   "outputs": [],
   "source": [
    "### CELL TO BE COMPLETED "
   ]
  },
  {
   "cell_type": "markdown",
   "metadata": {},
   "source": [
    "One property of numpy that is really important is broadcasting. The goal of broadcasting is to simplify the vectorization of certain operations when the vectors do not have the same shape. For example you can easily perform element-wise multiplication.\n",
    "\n",
    "To test this try doing an element-wise multiplication of the vector x and matrix y below"
   ]
  },
  {
   "cell_type": "code",
   "execution_count": 19,
   "metadata": {
    "ExecuteTime": {
     "end_time": "2023-10-04T13:09:55.557035Z",
     "start_time": "2023-10-04T13:09:55.548158Z"
    }
   },
   "outputs": [
    {
     "name": "stdout",
     "output_type": "stream",
     "text": [
      "X:  [2 3]\n",
      "Y: \n",
      "[[ 4  1]\n",
      " [ 9 10]\n",
      " [12 13]]\n",
      "X shape is:  (2,)\n",
      "Y shape is:  (3, 2)\n",
      "Element-wise multiplication shape: (3, 2)\n",
      "Element-wise multiplication result:\n",
      "[[ 8  3]\n",
      " [18 30]\n",
      " [24 39]]\n"
     ]
    }
   ],
   "source": [
    "x = np.array([2,3])\n",
    "y = np.array([[4,1],[9,10],[12,13]])\n",
    "result = x*y\n",
    "print(\"X: \",x)\n",
    "print(\"Y: \")\n",
    "print(y)\n",
    "print(\"X shape is: \",x.shape)\n",
    "print(\"Y shape is: \",y.shape)\n",
    "print(\"Element-wise multiplication shape:\", result.shape)\n",
    "print(\"Element-wise multiplication result:\")\n",
    "print(result)\n"
   ]
  },
  {
   "cell_type": "markdown",
   "metadata": {},
   "source": [
    "Another very powerful tool in numpy is indexing. You can use either an integer vector or a boolean vector to choose which indexes you want to extract from your numpy tensor.\n",
    "\n",
    "Consider that we want to extract all elements from the first line of your vector y that have a higher value than 1, you would have to do:"
   ]
  },
  {
   "cell_type": "code",
   "execution_count": 20,
   "metadata": {
    "ExecuteTime": {
     "end_time": "2023-10-04T13:09:55.566102Z",
     "start_time": "2023-10-04T13:09:55.560031Z"
    }
   },
   "outputs": [
    {
     "name": "stdout",
     "output_type": "stream",
     "text": [
      "Result:  [4]\n"
     ]
    }
   ],
   "source": [
    "first_row = y[0]\n",
    "first_row_higher_than_one = first_row > 1\n",
    "print(\"Result: \", first_row[first_row_higher_than_one])"
   ]
  },
  {
   "cell_type": "markdown",
   "metadata": {},
   "source": [
    "You can also choose specific lines to query, for example if you want to query lines 0 and 2"
   ]
  },
  {
   "cell_type": "code",
   "execution_count": 21,
   "metadata": {
    "ExecuteTime": {
     "end_time": "2023-10-04T13:09:55.576671Z",
     "start_time": "2023-10-04T13:09:55.570090Z"
    }
   },
   "outputs": [
    {
     "name": "stdout",
     "output_type": "stream",
     "text": [
      "Result:  [ 4 12 13]\n"
     ]
    }
   ],
   "source": [
    "rows = [0,2]\n",
    "rows_result = y[rows]\n",
    "values_higher_than_one = rows_result > 1\n",
    "print(\"Result: \", rows_result[values_higher_than_one])"
   ]
  },
  {
   "cell_type": "markdown",
   "metadata": {},
   "source": [
    "You can also save and load your numpy tensors using np.savez and np.load. This will be really important in the next courses as this enable you to generate your data only once instead of having to do all the calculations every time you need your data."
   ]
  },
  {
   "cell_type": "code",
   "execution_count": 22,
   "metadata": {
    "ExecuteTime": {
     "end_time": "2023-10-04T13:09:55.595639Z",
     "start_time": "2023-10-04T13:09:55.579668Z"
    }
   },
   "outputs": [],
   "source": [
    "filename = \"x.npz\"\n",
    "source_tensor = x\n",
    "np.savez(filename,data=source_tensor)"
   ]
  },
  {
   "cell_type": "code",
   "execution_count": 23,
   "metadata": {
    "ExecuteTime": {
     "end_time": "2023-10-04T13:09:55.606864Z",
     "start_time": "2023-10-04T13:09:55.598636Z"
    }
   },
   "outputs": [
    {
     "name": "stdout",
     "output_type": "stream",
     "text": [
      "Your tensor was loaded and contains:  [2 3]\n"
     ]
    }
   ],
   "source": [
    "loaded_npz = np.load(filename)\n",
    "loaded_tensor = loaded_npz[\"data\"]\n",
    "print(\"Your tensor was loaded and contains: \", loaded_tensor)"
   ]
  },
  {
   "cell_type": "markdown",
   "metadata": {},
   "source": [
    "Part 3 - Setup of the pyrat software and generating games\n",
    "--\n"
   ]
  },
  {
   "cell_type": "markdown",
   "metadata": {},
   "source": [
    "If you have not done so already, you need the latest version of PyRat. To obtain it, open a terminal and run:\n",
    "\n",
    "`python -m pip install --user git+https://github.com/BastienPasdeloup/PyRat.git`\n",
    "\n",
    "A complete guide is available at https://formations.imt-atlantique.fr/pyrat/install/"
   ]
  },
  {
   "cell_type": "code",
   "execution_count": 24,
   "metadata": {
    "ExecuteTime": {
     "end_time": "2023-10-04T13:09:55.615601Z",
     "start_time": "2023-10-04T13:09:55.611858Z"
    }
   },
   "outputs": [],
   "source": [
    "### TO DO: open a terminal tab / window and clone the repo."
   ]
  },
  {
   "cell_type": "code",
   "execution_count": 25,
   "metadata": {},
   "outputs": [
    {
     "name": "stdout",
     "output_type": "stream",
     "text": [
      "Package                  Version\n",
      "------------------------ -----------\n",
      "asttokens                2.4.1\n",
      "colored                  2.2.4\n",
      "comm                     0.2.2\n",
      "contourpy                1.2.0\n",
      "cycler                   0.12.1\n",
      "debugpy                  1.8.1\n",
      "decorator                5.1.1\n",
      "distinctipy              1.3.4\n",
      "executing                2.0.1\n",
      "filelock                 3.13.1\n",
      "fonttools                4.49.0\n",
      "fsspec                   2024.2.0\n",
      "ipykernel                6.29.3\n",
      "ipython                  8.22.2\n",
      "jedi                     0.19.1\n",
      "Jinja2                   3.1.3\n",
      "jupyter_client           8.6.1\n",
      "jupyter_core             5.7.2\n",
      "kiwisolver               1.4.5\n",
      "MarkupSafe               2.1.5\n",
      "matplotlib               3.8.3\n",
      "matplotlib-inline        0.1.6\n",
      "mpmath                   1.3.0\n",
      "nest-asyncio             1.6.0\n",
      "networkx                 3.2.1\n",
      "numpy                    1.26.4\n",
      "nvidia-cublas-cu12       12.1.3.1\n",
      "nvidia-cuda-cupti-cu12   12.1.105\n",
      "nvidia-cuda-nvrtc-cu12   12.1.105\n",
      "nvidia-cuda-runtime-cu12 12.1.105\n",
      "nvidia-cudnn-cu12        8.9.2.26\n",
      "nvidia-cufft-cu12        11.0.2.54\n",
      "nvidia-curand-cu12       10.3.2.106\n",
      "nvidia-cusolver-cu12     11.4.5.107\n",
      "nvidia-cusparse-cu12     12.1.0.106\n",
      "nvidia-nccl-cu12         2.19.3\n",
      "nvidia-nvjitlink-cu12    12.4.99\n",
      "nvidia-nvtx-cu12         12.1.105\n",
      "packaging                24.0\n",
      "parso                    0.8.3\n",
      "pexpect                  4.9.0\n",
      "pillow                   10.2.0\n",
      "pip                      22.0.2\n",
      "platformdirs             4.2.0\n",
      "prompt-toolkit           3.0.43\n",
      "psutil                   5.9.8\n",
      "ptyprocess               0.7.0\n",
      "pure-eval                0.2.2\n",
      "pygame                   2.5.2\n",
      "Pygments                 2.17.2\n",
      "pyparsing                3.1.2\n",
      "PyRat                    4.1.8\n",
      "python-dateutil          2.9.0.post0\n",
      "pyzmq                    25.1.2\n",
      "scipy                    1.12.0\n",
      "setuptools               59.6.0\n",
      "six                      1.16.0\n",
      "stack-data               0.6.3\n",
      "sympy                    1.12\n",
      "torch                    2.2.1\n",
      "tornado                  6.4\n",
      "tqdm                     4.66.2\n",
      "traitlets                5.14.2\n",
      "triton                   2.2.0\n",
      "typing_extensions        4.10.0\n",
      "wcwidth                  0.2.13\n"
     ]
    }
   ],
   "source": [
    "!pip list"
   ]
  },
  {
   "cell_type": "markdown",
   "metadata": {},
   "source": [
    "Now, you may import PyRat."
   ]
  },
  {
   "cell_type": "code",
   "execution_count": 37,
   "metadata": {
    "ExecuteTime": {
     "end_time": "2023-10-04T13:09:55.856449Z",
     "start_time": "2023-10-04T13:09:55.617599Z"
    }
   },
   "outputs": [
    {
     "name": "stdout",
     "output_type": "stream",
     "text": [
      "['/home/a23marmo/Bureau/Cours/Introduction to AI/prof_repo/session1/lab', '/usr/lib/python311.zip', '/usr/lib/python3.11', '/usr/lib/python3.11/lib-dynload', '', '/home/a23marmo/environments_venv/intro_ai/lib/python3.11/site-packages', '/home/a23marmo/Bureau/Cours/Introduction to AI/prof_repo/session1/lab/../..']\n"
     ]
    }
   ],
   "source": [
    "import sys     # These lines correct a bug occuring in Notebooks.\n",
    "sys.argv=['']  # It's not perfect, but it works.\n",
    "\n",
    "import os\n",
    "lab_commons_path = os.path.join(os.getcwd(), \"..\", \"..\")\n",
    "if lab_commons_path not in sys.path:\n",
    "    sys.path.append(lab_commons_path)\n",
    "\n",
    "from pyrat import *"
   ]
  },
  {
   "cell_type": "markdown",
   "metadata": {},
   "source": [
    "In the context of the AI course, we are going to simplify the rules of PyRat a bit.\n",
    "In fact, we are going to remove all walls and mud penalties. Also, we are not going to consider symmetric mazes anymore. This has already been prepared in this class.\n",
    "\n",
    "Below, you will find a function which simulates a game between two players `program_1` and `program_2`, and returns the initial locations of cheeses (initial condition) and the winner (1 for `program_1` and -1 `program_2`)."
   ]
  },
  {
   "cell_type": "code",
   "execution_count": 27,
   "metadata": {
    "ExecuteTime": {
     "end_time": "2023-10-04T13:10:08.364384Z",
     "start_time": "2023-10-04T13:09:55.864436Z"
    }
   },
   "outputs": [
    {
     "name": "stdout",
     "output_type": "stream",
     "text": [
      "Cheeses locations: [0. 0. 0. 0. 0. 0. 0. 0. 0. 0. 0. 0. 0. 0. 0. 0. 0. 0. 0. 0. 0. 0. 0. 0.\n",
      " 0. 0. 0. 0. 0. 0. 0. 0. 0. 0. 0. 0. 0. 0. 0. 0. 0. 0. 0. 0. 0. 1. 0. 0.\n",
      " 0. 0. 0. 0. 0. 0. 0. 0. 0. 0. 0. 0. 0. 0. 0. 0. 0. 0. 0. 0. 0. 0. 0. 0.\n",
      " 0. 0. 0. 0. 0. 0. 0. 0. 0. 0. 0. 0. 0. 0. 0. 0. 0. 0. 0. 0. 0. 0. 0. 0.\n",
      " 0. 1. 0. 0. 0. 0. 0. 0. 0. 0. 0. 0. 0. 0. 0. 0. 0. 0. 0. 0. 0. 0. 0. 0.\n",
      " 0. 0. 0. 0. 0. 0. 0. 0. 0. 0. 0. 0. 0. 0. 0. 0. 0. 1. 0. 0. 0. 0. 0. 0.\n",
      " 0. 0. 0. 0. 0. 0. 0. 1. 0. 0. 0. 0. 0. 0. 0. 0. 0. 0. 0. 0. 0. 0. 0. 0.\n",
      " 0. 0. 1. 0. 0. 0. 0. 0. 0. 0. 0. 0. 0. 0. 0. 1. 0. 0. 0. 0. 0. 0. 0. 0.\n",
      " 0. 0. 0. 0. 0. 0. 0. 0. 0. 0. 0. 1. 0. 0. 0. 0. 0. 0. 0. 0. 0. 0. 0. 0.\n",
      " 0. 0. 0. 0. 0. 0. 0. 0. 0.],\n",
      "Winner (1 for `program_1` and -1 `program_2`, 0 for a draw): 1.0\n"
     ]
    }
   ],
   "source": [
    "import lab_commons.make_2_player_matches as simulations\n",
    "import lab_commons.AI.greedy as greedy_player\n",
    "import lab_commons.AI.random as random_player\n",
    "import lab_commons.AI.second_greedy as second_greedy_player\n",
    "\n",
    "program_1 = greedy_player \n",
    "program_2 = second_greedy_player # You may want to test with the random player.\n",
    "\n",
    "_, cheeses_locations, winner = simulations.run_one_game(program_1, program_2, gui = True)\n",
    "print(f\"Cheeses locations: {cheeses_locations},\\nWinner (1 for `program_1` and -1 `program_2`, 0 for a draw): {winner}\")"
   ]
  },
  {
   "cell_type": "markdown",
   "metadata": {},
   "source": [
    "You can additionally modify the size of the maze and the number of cheeses to catch on the maze."
   ]
  },
  {
   "cell_type": "code",
   "execution_count": 28,
   "metadata": {
    "ExecuteTime": {
     "end_time": "2023-10-04T13:10:24.338309Z",
     "start_time": "2023-10-04T13:10:08.389523Z"
    }
   },
   "outputs": [
    {
     "name": "stdout",
     "output_type": "stream",
     "text": [
      "Cheeses locations: [0. 0. 1. 0. 0. 0. 0. 1. 0. 1. 0. 1. 0. 0. 0. 0. 0. 0. 0. 0.],\n",
      "Winner (1 for `program_1` and -1 `program_2`, 0 for a draw): -1.0\n"
     ]
    }
   ],
   "source": [
    "nb_cheese = 4\n",
    "maze_width = 4\n",
    "maze_height = 5\n",
    "\n",
    "_, cheeses_locations, winner = simulations.run_one_game(program_1, program_2, nb_cheese = nb_cheese,\n",
    "                                                     maze_width = maze_width, maze_height = maze_height, gui = True)\n",
    "print(f\"Cheeses locations: {cheeses_locations},\\nWinner (1 for `program_1` and -1 `program_2`, 0 for a draw): {winner}\")"
   ]
  },
  {
   "cell_type": "markdown",
   "metadata": {},
   "source": [
    "Finally, you can run several games with the following function, by specifying the number of desired games with `nb_games`. The function returns the initial locations of all cheeses for all games, and the winner for each game. We encourage you to turn off the user interface when runninng several games (setting `gui` to False, which is the default value)."
   ]
  },
  {
   "cell_type": "code",
   "execution_count": 29,
   "metadata": {
    "ExecuteTime": {
     "end_time": "2023-10-04T13:10:45.811504Z",
     "start_time": "2023-10-04T13:10:24.346283Z"
    }
   },
   "outputs": [
    {
     "name": "stderr",
     "output_type": "stream",
     "text": [
      "Game:   0%|          | 0/10 [00:00<?, ?it/s]                                                     "
     ]
    },
    {
     "name": "stdout",
     "output_type": "stream",
     "text": [
      "Cheeses matrix: [array([0., 0., 1., 0., 0., 0., 0., 1., 0., 1., 0., 1., 0., 0., 0., 0., 0.,\n",
      "       0., 0., 0.]), array([0., 0., 0., 1., 1., 0., 0., 1., 0., 0., 0., 0., 0., 0., 1., 0., 0.,\n",
      "       0., 0., 0.]), array([0., 1., 0., 0., 0., 1., 0., 0., 0., 0., 1., 0., 0., 0., 0., 0., 0.,\n",
      "       1., 0., 0.]), array([0., 0., 1., 1., 0., 0., 0., 0., 0., 0., 0., 0., 1., 0., 0., 1., 0.,\n",
      "       0., 0., 0.]), array([0., 0., 0., 0., 1., 0., 0., 1., 0., 0., 0., 0., 1., 0., 0., 0., 0.,\n",
      "       1., 0., 0.]), array([0., 0., 1., 1., 0., 0., 1., 0., 0., 0., 0., 1., 0., 0., 0., 0., 0.,\n",
      "       0., 0., 0.]), array([0., 0., 0., 1., 0., 0., 1., 0., 0., 0., 0., 0., 1., 0., 0., 0., 1.,\n",
      "       0., 0., 0.]), array([0., 0., 0., 0., 0., 0., 0., 0., 0., 1., 0., 0., 0., 1., 0., 1., 0.,\n",
      "       1., 0., 0.]), array([0., 0., 0., 0., 0., 0., 0., 1., 0., 0., 0., 0., 1., 0., 0., 1., 0.,\n",
      "       1., 0., 0.]), array([0., 0., 0., 0., 1., 1., 0., 1., 0., 0., 0., 0., 0., 0., 0., 0., 1.,\n",
      "       0., 0., 0.])],\n",
      "Winners: [-1.0, 1.0, 0.0, 0.0, 0.0, 0.0, 0.0, -1.0, 0.0, 0.0]\n"
     ]
    },
    {
     "name": "stderr",
     "output_type": "stream",
     "text": [
      "\r"
     ]
    }
   ],
   "source": [
    "nb_games = 10\n",
    "\n",
    "_, cheeses_10_games, winners_10_games = simulations.run_several_games(program_1, program_2, nb_cheese = nb_cheese,\n",
    "                                                                  maze_width = maze_width, maze_height = maze_height, \n",
    "                                                                  nb_games = nb_games)\n",
    "\n",
    "print(f\"Cheeses matrix: {cheeses_10_games},\\nWinners: {winners_10_games}\")"
   ]
  },
  {
   "cell_type": "markdown",
   "metadata": {},
   "source": [
    "Part 4 - Visualizing PyRat Datasets\n",
    "--"
   ]
  },
  {
   "cell_type": "markdown",
   "metadata": {},
   "source": [
    "We've already run 500 games for you, with 4 cheeses and a maze of size 5 x 7. You can load the results in the following cell.\n",
    "\n",
    "X and Y respectively represent the cheeses position and the winner, for each game."
   ]
  },
  {
   "cell_type": "code",
   "execution_count": 30,
   "metadata": {
    "ExecuteTime": {
     "end_time": "2023-10-04T16:52:40.138539Z",
     "start_time": "2023-10-04T16:52:40.062866Z"
    }
   },
   "outputs": [
    {
     "name": "stdout",
     "output_type": "stream",
     "text": [
      "Shape of X matrix: (500, 35),\n",
      "Y matrix: [ 0.  0.  0. -1. -1.  0.  0.  1.  0.  1.  1.  1.  0.  0.  1.  0. -1.  0.\n",
      " -1. -1.  1.  0. -1. -1.  0.  0.  0.  0.  1. -1.  0.  1.  1. -1.  1. -1.\n",
      "  1.  1.  1. -1. -1.  0. -1.  0.  0.  1.  0.  1.  0.  1.  0. -1. -1.  0.\n",
      "  0.  1.  0.  0. -1. -1. -1.  0. -1. -1.  0.  0.  1.  0.  0.  1.  0. -1.\n",
      "  1. -1.  0.  0.  0.  0.  0. -1.  1.  0.  0.  0.  0.  0.  1. -1.  0.  1.\n",
      "  0.  0.  0.  0.  1. -1. -1.  0.  0.  0.  0.  0. -1. -1.  0.  0. -1. -1.\n",
      "  0.  1.  0. -1.  0. -1.  0. -1.  0. -1.  0.  0. -1. -1. -1.  0.  0. -1.\n",
      "  0.  0.  1. -1.  0.  1.  0.  0.  0.  0.  0. -1.  1.  0.  0.  0.  1. -1.\n",
      "  0. -1.  1.  0.  1.  0. -1.  0.  1.  1. -1. -1. -1.  0. -1.  0.  0.  0.\n",
      " -1.  0.  1.  0.  0. -1.  1.  0. -1. -1.  1.  0.  0.  0.  1.  1.  1.  1.\n",
      "  0. -1.  1.  1.  1.  0. -1.  0.  1. -1. -1. -1. -1.  0.  1.  0.  0. -1.\n",
      " -1. -1. -1.  0.  0.  0.  0.  0. -1. -1.  0.  0. -1. -1. -1.  1.  1.  1.\n",
      " -1.  1. -1.  0.  1. -1.  1. -1. -1.  0.  0. -1.  1.  0. -1.  0.  1.  1.\n",
      " -1.  0.  0. -1.  0. -1.  1. -1.  1. -1. -1.  0.  0.  1.  1. -1.  0.  0.\n",
      "  1.  0. -1.  0.  0.  1.  0.  0.  0.  0.  1. -1.  0. -1.  1. -1. -1.  0.\n",
      " -1. -1.  0.  0.  1.  0. -1. -1.  0.  1.  1. -1. -1.  1.  0. -1.  1.  1.\n",
      "  0. -1.  1. -1.  0.  1.  0. -1.  1.  0.  1. -1. -1. -1.  0. -1.  1. -1.\n",
      "  0.  1.  1.  0. -1.  0.  0. -1. -1.  1.  0. -1. -1.  1. -1.  1.  1.  0.\n",
      "  0.  0.  1.  1. -1. -1. -1.  1.  0.  1.  0.  1. -1.  0.  0.  0. -1. -1.\n",
      "  1.  1.  1.  1.  0.  0. -1.  0.  0.  1.  0.  1.  0. -1. -1.  0.  0.  1.\n",
      "  1.  0. -1.  0. -1.  0.  0.  0.  0.  1.  1.  0.  0.  1.  1.  0. -1.  0.\n",
      "  1.  1.  1.  1.  0.  1.  1.  1.  0.  1. -1.  1.  0. -1.  0. -1.  1.  0.\n",
      "  0. -1.  1. -1.  0.  1.  1.  1.  0.  1.  1.  0. -1.  1.  0. -1. -1.  1.\n",
      "  1.  1.  1.  0.  0.  0. -1.  0. -1.  0.  0.  0.  0. -1. -1.  0. -1.  0.\n",
      "  0. -1. -1.  1.  1.  1. -1.  0. -1.  0. -1.  1.  1.  0.  0.  1.  1. -1.\n",
      "  1. -1.  0.  1.  0.  1.  0. -1. -1.  0.  1.  0. -1.  1.  0.  0. -1.  0.\n",
      "  1.  1.  1.  0. -1.  1.  0.  0.  1.  0.  0. -1.  0.  0.  1.  0.  0. -1.\n",
      "  0.  0.  0.  0.  1. -1.  0.  0. -1. -1.  0. -1. -1.  1.]\n"
     ]
    }
   ],
   "source": [
    "cheeses_npz = np.load(\"cheeses_500_games_5x7_4.npz\")\n",
    "X = cheeses_npz[\"data\"]\n",
    "\n",
    "winners_npz = np.load(\"winners_500_games_5x7_4.npz\")\n",
    "Y = winners_npz[\"data\"]\n",
    "print(f\"Shape of X matrix: {X.shape},\\nY matrix: {Y}\")"
   ]
  },
  {
   "cell_type": "markdown",
   "metadata": {},
   "source": [
    "Now with the dataset loaded we can explore it using matplotlib. Matplotlib is a very powerful python graphics display library.\n",
    "\n",
    "We are going to be showing the games initial state and the winner of each match. The games are represented by two variables X and Y.\n",
    "\n",
    "X is a matrix with 500 examples of length 35. Each example can be resized to the real maze shape of 5 by 7. Each data point of the example vector has two possible values. 1 for presence of cheese and 0 for absence of cheese. \n",
    "\n",
    "\n",
    "Y is a scalar integer that ranges from -1 to 1. 1 represents a win by the python, 0 a draw and -1 a win for the rat.\n",
    "\n",
    "The magic command \"%matplotlib inline\" tells jupyter notebook to display the plot results in the document, instead of opening a separate window."
   ]
  },
  {
   "cell_type": "markdown",
   "metadata": {},
   "source": [
    "Now it is your turn. Reshape the X matrix into a tensor of (examples,mazeWidth, mazeHeight) and put it into a variable x_labyrinth"
   ]
  },
  {
   "cell_type": "code",
   "execution_count": 31,
   "metadata": {
    "ExecuteTime": {
     "end_time": "2023-10-04T13:12:12.024935Z",
     "start_time": "2023-10-04T13:12:12.020243Z"
    }
   },
   "outputs": [],
   "source": [
    "### CELL TO BE COMPLETED \n",
    "# x_labyrinth = "
   ]
  },
  {
   "cell_type": "code",
   "execution_count": 32,
   "metadata": {
    "ExecuteTime": {
     "end_time": "2023-10-04T13:10:46.074229Z",
     "start_time": "2023-10-04T13:10:45.836204Z"
    }
   },
   "outputs": [],
   "source": [
    "import matplotlib.pyplot as plt\n",
    "%matplotlib inline"
   ]
  },
  {
   "cell_type": "code",
   "execution_count": 33,
   "metadata": {
    "ExecuteTime": {
     "end_time": "2023-10-04T13:12:14.523534Z",
     "start_time": "2023-10-04T13:12:13.320065Z"
    }
   },
   "outputs": [
    {
     "ename": "NameError",
     "evalue": "name 'x_labyrinth' is not defined",
     "output_type": "error",
     "traceback": [
      "\u001b[0;31m---------------------------------------------------------------------------\u001b[0m",
      "\u001b[0;31mNameError\u001b[0m                                 Traceback (most recent call last)",
      "Cell \u001b[0;32mIn[33], line 4\u001b[0m\n\u001b[1;32m      2\u001b[0m fig, axis \u001b[38;5;241m=\u001b[39m plt\u001b[38;5;241m.\u001b[39msubplots(\u001b[38;5;241m1\u001b[39m,afew,figsize\u001b[38;5;241m=\u001b[39m(\u001b[38;5;241m20\u001b[39m,\u001b[38;5;241m10\u001b[39m)) \u001b[38;5;66;03m# Generate a new figure with one row of `afew` plots. We also set the size 20,10\u001b[39;00m\n\u001b[1;32m      3\u001b[0m \u001b[38;5;28;01mfor\u001b[39;00m i \u001b[38;5;129;01min\u001b[39;00m \u001b[38;5;28mrange\u001b[39m(afew):\n\u001b[0;32m----> 4\u001b[0m     ind \u001b[38;5;241m=\u001b[39m np\u001b[38;5;241m.\u001b[39mrandom\u001b[38;5;241m.\u001b[39mrandint(\u001b[43mx_labyrinth\u001b[49m\u001b[38;5;241m.\u001b[39mshape[\u001b[38;5;241m0\u001b[39m]) \u001b[38;5;66;03m# sample a game\u001b[39;00m\n\u001b[1;32m      5\u001b[0m     ax \u001b[38;5;241m=\u001b[39m axis[i] \u001b[38;5;66;03m# get the corresponding axis to use\u001b[39;00m\n\u001b[1;32m      6\u001b[0m     img \u001b[38;5;241m=\u001b[39m ax\u001b[38;5;241m.\u001b[39mmatshow(x_labyrinth[ind]\u001b[38;5;241m.\u001b[39mT) \u001b[38;5;66;03m# Show the matrix as an image (With .T, we transpose the width dimension and the height dimension to see the game as plotted by the PyRat software.)\u001b[39;00m\n",
      "\u001b[0;31mNameError\u001b[0m: name 'x_labyrinth' is not defined"
     ]
    },
    {
     "data": {
      "image/png": "[encoded data removed]",
      "text/plain": [
       "<Figure size 2000x1000 with 3 Axes>"
      ]
     },
     "metadata": {},
     "output_type": "display_data"
    }
   ],
   "source": [
    "afew = 3 # Number of games to sample\n",
    "fig, axis = plt.subplots(1,afew,figsize=(20,10)) # Generate a new figure with one row of `afew` plots. We also set the size 20,10\n",
    "for i in range(afew):\n",
    "    ind = np.random.randint(x_labyrinth.shape[0]) # sample a game\n",
    "    ax = axis[i] # get the corresponding axis to use\n",
    "    img = ax.matshow(x_labyrinth[ind].T) # Show the matrix as an image (With .T, we transpose the width dimension and the height dimension to see the game as plotted by the PyRat software.)\n",
    "    ax.set_title('Winner : {}'.format(Y[ind])) # Set the axis title with the game winner\n",
    "\n",
    "#Invert all of the y axis so that we see the game in the same direction than in the Pyrat software \n",
    "[ax.invert_yaxis() for ax in axis]\n",
    "\n",
    "fig.colorbar(img,ax=axis) # add a colorbar for each image"
   ]
  },
  {
   "cell_type": "markdown",
   "metadata": {},
   "source": [
    "In the plots above, the cheeses (1) are pictured in yellow, while the empty squares are represented in blue."
   ]
  },
  {
   "cell_type": "markdown",
   "metadata": {},
   "source": [
    "# Exercise\n",
    "\n",
    "Now with all the knowledge you acquired today you can start doing some analysis. \n",
    "\n",
    "Compute the average initial configuration of the game for each situation (rat win, draw, python win) and plotting them side by side. "
   ]
  },
  {
   "cell_type": "code",
   "execution_count": null,
   "metadata": {
    "ExecuteTime": {
     "end_time": "2023-10-04T13:10:47.004165Z",
     "start_time": "2023-10-04T13:10:47.004165Z"
    }
   },
   "outputs": [],
   "source": [
    "### CELL TO BE COMPLETED "
   ]
  },
  {
   "cell_type": "code",
   "execution_count": null,
   "metadata": {
    "ExecuteTime": {
     "end_time": "2023-10-04T13:10:47.006164Z",
     "start_time": "2023-10-04T13:10:47.006164Z"
    },
    "scrolled": true
   },
   "outputs": [],
   "source": [
    "### CELL TO BE COMPLETED \n"
   ]
  }
 ],
 "metadata": {
  "kernelspec": {
   "display_name": "Python 3 (ipykernel)",
   "language": "python",
   "name": "python3"
  },
  "language_info": {
   "codemirror_mode": {
    "name": "ipython",
    "version": 3
   },
   "file_extension": ".py",
   "mimetype": "text/x-python",
   "name": "python",
   "nbconvert_exporter": "python",
   "pygments_lexer": "ipython3",
   "version": "3.9.13"
  },
  "toc": {
   "base_numbering": 1,
   "nav_menu": {},
   "number_sections": true,
   "sideBar": true,
   "skip_h1_title": false,
   "title_cell": "Table of Contents",
   "title_sidebar": "Contents",
   "toc_cell": false,
   "toc_position": {},
   "toc_section_display": true,
   "toc_window_display": false
  },
  "varInspector": {
   "cols": {
    "lenName": 16,
    "lenType": 16,
    "lenVar": 40
   },
   "kernels_config": {
    "python": {
     "delete_cmd_postfix": "",
     "delete_cmd_prefix": "del ",
     "library": "var_list.py",
     "varRefreshCmd": "print(var_dic_list())"
    },
    "r": {
     "delete_cmd_postfix": ") ",
     "delete_cmd_prefix": "rm(",
     "library": "var_list.r",
     "varRefreshCmd": "cat(var_dic_list()) "
    }
   },
   "types_to_exclude": [
    "module",
    "function",
    "builtin_function_or_method",
    "instance",
    "_Feature"
   ],
   "window_display": false
  }
 },
 "nbformat": 4,
 "nbformat_minor": 4
}
